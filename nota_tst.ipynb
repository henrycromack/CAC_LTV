{
 "cells": [
  {
   "cell_type": "code",
   "execution_count": 14,
   "metadata": {},
   "outputs": [
    {
     "name": "stdout",
     "output_type": "stream",
     "text": [
      "aprovado\n"
     ]
    }
   ],
   "source": [
    "prova = 3.5*0.5\n",
    "atividade = 10*0.1\n",
    "nova_nota = 5-(prova + atividade)\n",
    "\n",
    "trabalho = nova_nota / 0.4\n",
    "\n",
    "def nota_final (prova, atividade, trabalho):\n",
    "    nota_final = prova+atividade+trabalho\n",
    "\n",
    "    if nota_final >=5:\n",
    "        return \"aprovado\"\n",
    "    else:\n",
    "        return \"reprovado\"\n",
    "\n",
    "resultado = nota_final(prova, atividade, trabalho)\n",
    "print(resultado)"
   ]
  }
 ],
 "metadata": {
  "kernelspec": {
   "display_name": "Python 3",
   "language": "python",
   "name": "python3"
  },
  "language_info": {
   "codemirror_mode": {
    "name": "ipython",
    "version": 3
   },
   "file_extension": ".py",
   "mimetype": "text/x-python",
   "name": "python",
   "nbconvert_exporter": "python",
   "pygments_lexer": "ipython3",
   "version": "3.12.8"
  }
 },
 "nbformat": 4,
 "nbformat_minor": 2
}
